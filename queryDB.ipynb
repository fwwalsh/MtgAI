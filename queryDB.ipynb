{
 "cells": [
  {
   "cell_type": "code",
   "execution_count": null,
   "metadata": {},
   "outputs": [
    {
     "name": "stdout",
     "output_type": "stream",
     "text": [
      "Connected directly to ChromaDB at: ./data/chroma_db\n",
      "\n",
      "Listing all collections found in the database:\n",
      "-> Found 2 collection(s):\n",
      "  - Name: cards_collection - Items: 34519\n",
      "    Random Samples:\n",
      "        Metadata: {'seq_num': 18774, 'source': 'C:\\\\Users\\\\fwwal\\\\Code\\\\MtgAI\\\\cardsFiltered.json'}\n",
      "    Random Samples:\n",
      "        Metadata: {'seq_num': 18774, 'source': 'C:\\\\Users\\\\fwwal\\\\Code\\\\MtgAI\\\\cardsFiltered.json'}\n"
     ]
    },
    {
     "ename": "TypeError",
     "evalue": "'int' object is not subscriptable",
     "output_type": "error",
     "traceback": [
      "\u001b[1;31m---------------------------------------------------------------------------\u001b[0m",
      "\u001b[1;31mTypeError\u001b[0m                                 Traceback (most recent call last)",
      "Cell \u001b[1;32mIn[10], line 31\u001b[0m\n\u001b[0;32m     29\u001b[0m     \u001b[38;5;28;01mfor\u001b[39;00m sample \u001b[38;5;129;01min\u001b[39;00m random_samples:\n\u001b[0;32m     30\u001b[0m         \u001b[38;5;28mprint\u001b[39m(\u001b[38;5;124mf\u001b[39m\u001b[38;5;124m\"\u001b[39m\u001b[38;5;124m        Metadata: \u001b[39m\u001b[38;5;132;01m{\u001b[39;00mall_items[\u001b[38;5;124m'\u001b[39m\u001b[38;5;124mmetadatas\u001b[39m\u001b[38;5;124m'\u001b[39m][sample]\u001b[38;5;132;01m}\u001b[39;00m\u001b[38;5;124m\"\u001b[39m)\n\u001b[1;32m---> 31\u001b[0m         \u001b[38;5;28mprint\u001b[39m(\u001b[38;5;124mf\u001b[39m\u001b[38;5;124m\"\u001b[39m\u001b[38;5;124m      - Document: \u001b[39m\u001b[38;5;132;01m{\u001b[39;00m\u001b[43msample\u001b[49m\u001b[43m[\u001b[49m\u001b[38;5;124;43m'\u001b[39;49m\u001b[38;5;124;43mdocuments\u001b[39;49m\u001b[38;5;124;43m'\u001b[39;49m\u001b[43m]\u001b[49m[sample]\u001b[38;5;132;01m}\u001b[39;00m\u001b[38;5;124m\"\u001b[39m)\n\u001b[0;32m     32\u001b[0m \u001b[38;5;28;01melse\u001b[39;00m:\n\u001b[0;32m     33\u001b[0m     \u001b[38;5;28mprint\u001b[39m(\u001b[38;5;124m\"\u001b[39m\u001b[38;5;124m    No items found in this collection.\u001b[39m\u001b[38;5;124m\"\u001b[39m)\n",
      "\u001b[1;31mTypeError\u001b[0m: 'int' object is not subscriptable"
     ]
    }
   ],
   "source": [
    "import chromadb\n",
    "import random\n",
    "\n",
    "persist_directory = \"./data/chroma_db\"  # <--- SET THIS\n",
    "\n",
    "\n",
    "client = chromadb.PersistentClient(path=persist_directory)\n",
    "print(f\"Connected directly to ChromaDB at: {persist_directory}\")\n",
    "\n",
    "#client.delete_collection(\"cards_collection_googlae\")  # <--- DELETE THIS COLLECTION\n",
    "print(\"\\nListing all collections found in the database:\")\n",
    "collections = client.list_collections()\n",
    "if not collections:\n",
    "        print(\"-> No collections found.\")\n",
    "else:\n",
    "    print(f\"-> Found {len(collections)} collection(s):\")\n",
    "    # Iterate through the Collection objects\n",
    "    for collection in collections:\n",
    "        # Call the .count() method on each collection object\n",
    "        item_count = collection.count()\n",
    "        print(f\"  - Name: {collection.name} - Items: {item_count}\")\n",
    "\n",
    "        # Fetch 2 random samples if the collection has items\n",
    "        if item_count > 0:\n",
    "            all_items = collection.get(include=[\"metadatas\", \"documents\"])\n",
    "            random_samples = random.sample(range(len(all_items[\"metadatas\"])), 2)\n",
    "\n",
    "            print(\"    Random Samples:\")\n",
    "            for sample in random_samples:\n",
    "                print(f\"        Metadata: {all_items['metadatas'][sample]}\")\n",
    "                print(f\"      - Document: {all_items['documents'][sample]}\")\n",
    "        else:\n",
    "            print(\"    No items found in this collection.\")"
   ]
  },
  {
   "cell_type": "code",
   "execution_count": null,
   "metadata": {},
   "outputs": [],
   "source": [
    "from langchain_community.vectorstores import Chroma\n",
    "from langchain_google_genai import GoogleGenerativeAIEmbeddings \n",
    "import os\n",
    "if not os.getenv(\"GOOGLE_API_KEY\"):\n",
    "    raise ValueError(\"GOOGLE_API_KEY not found in environment variables or gcloud ADC.\")\n",
    "\n",
    "temp = Chroma\n",
    "vector_store = Chroma(\n",
    "    persist_directory=\"./data/chroma_db\",\n",
    "    collection_name=\"cards_collection_google\",\n",
    "    embedding_function=GoogleGenerativeAIEmbeddings(model=\"models/embedding-001\"), \n",
    "      \n",
    ")\n",
    "print(f\"Vector store loaded. Collection '{vector_store._collection.name}' has approx {vector_store._collection.count()} items.\")\n",
    "\n",
    "print (\"Loading Chroma DB...\")\n",
    "results = vector_store.similarity_search(\n",
    "    \"Demonic Tutor\",\n",
    "    k=10\n",
    ")\n",
    "\n",
    "\n",
    "for res in results:\n",
    "    print(f\"* {res.page_content} [{res.metadata}]\")"
   ]
  }
 ],
 "metadata": {
  "kernelspec": {
   "display_name": "Python 3",
   "language": "python",
   "name": "python3"
  },
  "language_info": {
   "codemirror_mode": {
    "name": "ipython",
    "version": 3
   },
   "file_extension": ".py",
   "mimetype": "text/x-python",
   "name": "python",
   "nbconvert_exporter": "python",
   "pygments_lexer": "ipython3",
   "version": "3.10.11"
  }
 },
 "nbformat": 4,
 "nbformat_minor": 2
}
