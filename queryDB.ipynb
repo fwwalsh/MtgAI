{
 "cells": [
  {
   "cell_type": "code",
   "execution_count": 3,
   "metadata": {},
   "outputs": [
    {
     "name": "stdout",
     "output_type": "stream",
     "text": [
      "* name: Greta, Sweettooth Scourge, type: Legendary Creature â€” Human Warrior, set: Wilds of Eldraine, power: 3, toughness: 3, oracle_text: When Greta enters, create a Food token. (It's an artifact with \"{2}, {T}, Sacrifice this token: You gain 3 life.\") {G}, Sacrifice a Food: Put a +1/+1 counter on target creature. Activate only as a sorcery. {1}{B}, Sacrifice a Food: You draw a card and you lose 1 life., mana_cost: {1}{B}{G} [{'source': 'cardsFiltered.Short.txt'}]\n",
      "* name: Nissa, Worldsoul Speaker, type: Legendary Creature â€” Elf Druid, set: Aetherdrift Commander, power: 3, toughness: 3, oracle_text: Landfall â€” Whenever a land you control enters, you get {E}{E} (two energy counters). You may pay eight {E} rather than pay the mana cost for permanent spells you cast., mana_cost: {3}{G} [{'source': 'cardsFiltered.Short.txt'}]\n"
     ]
    }
   ],
   "source": [
    "from langchain_chroma import Chroma\n",
    "from langchain_huggingface import HuggingFaceEmbeddings\n",
    "\n",
    "model_name = \"sentence-transformers/all-MiniLM-L6-v2\"\n",
    "model_kwargs = {'device': 'cpu'}\n",
    "encode_kwargs = {'normalize_embeddings': False}\n",
    "embeddings = HuggingFaceEmbeddings(\n",
    "    model_name=model_name,\n",
    "    model_kwargs=model_kwargs,\n",
    "    encode_kwargs=encode_kwargs\n",
    ")\n",
    "\n",
    "\n",
    "vector_store = Chroma(\n",
    "    persist_directory=\"./data/chroma_db\",\n",
    "    collection_name=\"cards_collection\",\n",
    "    embedding_function=embeddings\n",
    ")\n",
    "\n",
    "\n",
    "results = vector_store.similarity_search(\n",
    "    \"Demonic Tutor\",\n",
    "    k=2,\n",
    "    #filter={\"source\": \"tweet\"},\n",
    ")\n",
    "for res in results:\n",
    "    print(f\"* {res.page_content} [{res.metadata}]\")"
   ]
  }
 ],
 "metadata": {
  "kernelspec": {
   "display_name": "Python 3",
   "language": "python",
   "name": "python3"
  },
  "language_info": {
   "codemirror_mode": {
    "name": "ipython",
    "version": 3
   },
   "file_extension": ".py",
   "mimetype": "text/x-python",
   "name": "python",
   "nbconvert_exporter": "python",
   "pygments_lexer": "ipython3",
   "version": "3.10.11"
  }
 },
 "nbformat": 4,
 "nbformat_minor": 2
}
