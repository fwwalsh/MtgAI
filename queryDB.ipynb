{
 "cells": [
  {
   "cell_type": "code",
   "execution_count": 6,
   "metadata": {},
   "outputs": [
    {
     "name": "stdout",
     "output_type": "stream",
     "text": [
      "Connected directly to ChromaDB at: ./data/chroma_db\n",
      "\n",
      "Listing all collections found in the database:\n",
      "-> Found 1 collection(s):\n",
      "  - Name: cards_collection_google - Items: 34504\n",
      "    Random Samples:\n",
      "        Metadata: {'mana_cost': '{4}{R}{R}', 'name': 'Goblin Goliath', 'oracle_text': 'When this creature enters, create a number of 1/1 red Goblin creature tokens equal to the number of opponents you have.\\n{3}{R}, {T}: If a source you control would deal damage to an opponent this turn, it deals double that damage to that player instead.', 'power': '5', 'seq_num': 2603, 'source': '/Users/rwalsh/Code/MtgAI/data/cardsFiltered.json', 'toughness': '4', 'type': 'Creature — Goblin Mutant'}\n",
      "      - Document: Card Name: goblin goliath\n",
      "Mana Cost: four generic mana red mana red mana\n",
      "Type: creature — goblin mutant\n",
      "Rules Text:\n",
      "when this creature enters, create a number of 1/1 red goblin creature tokens equal to the number of opponents you have.\n",
      "three generic mana{r}, {t}: if a source you control would deal damage to an opponent this turn, it deals double that damage to that player instead.\n",
      "Stats: power 5 toughness 4\n",
      "        Metadata: {'mana_cost': '{4}{W}{W}', 'name': 'Sunblast Angel', 'oracle_text': 'Flying\\nWhen this creature enters, destroy all tapped creatures.', 'power': '4', 'seq_num': 18691, 'source': '/Users/rwalsh/Code/MtgAI/data/cardsFiltered.json', 'toughness': '5', 'type': 'Creature — Angel'}\n",
      "      - Document: Card Name: sunblast angel\n",
      "Mana Cost: four generic mana white mana white mana\n",
      "Type: creature — angel\n",
      "Rules Text:\n",
      "flying\n",
      "when this creature enters, destroy all tapped creatures.\n",
      "Stats: power 4 toughness 5\n",
      "    Random Samples:\n",
      "        Metadata: {'mana_cost': '{4}{R}{R}', 'name': 'Goblin Goliath', 'oracle_text': 'When this creature enters, create a number of 1/1 red Goblin creature tokens equal to the number of opponents you have.\\n{3}{R}, {T}: If a source you control would deal damage to an opponent this turn, it deals double that damage to that player instead.', 'power': '5', 'seq_num': 2603, 'source': '/Users/rwalsh/Code/MtgAI/data/cardsFiltered.json', 'toughness': '4', 'type': 'Creature — Goblin Mutant'}\n",
      "      - Document: Card Name: goblin goliath\n",
      "Mana Cost: four generic mana red mana red mana\n",
      "Type: creature — goblin mutant\n",
      "Rules Text:\n",
      "when this creature enters, create a number of 1/1 red goblin creature tokens equal to the number of opponents you have.\n",
      "three generic mana{r}, {t}: if a source you control would deal damage to an opponent this turn, it deals double that damage to that player instead.\n",
      "Stats: power 5 toughness 4\n",
      "        Metadata: {'mana_cost': '{4}{W}{W}', 'name': 'Sunblast Angel', 'oracle_text': 'Flying\\nWhen this creature enters, destroy all tapped creatures.', 'power': '4', 'seq_num': 18691, 'source': '/Users/rwalsh/Code/MtgAI/data/cardsFiltered.json', 'toughness': '5', 'type': 'Creature — Angel'}\n",
      "      - Document: Card Name: sunblast angel\n",
      "Mana Cost: four generic mana white mana white mana\n",
      "Type: creature — angel\n",
      "Rules Text:\n",
      "flying\n",
      "when this creature enters, destroy all tapped creatures.\n",
      "Stats: power 4 toughness 5\n"
     ]
    }
   ],
   "source": [
    "import chromadb\n",
    "import random\n",
    "\n",
    "persist_directory = \"./data/chroma_db\"  # <--- SET THIS\n",
    "\n",
    "\n",
    "client = chromadb.PersistentClient(path=persist_directory)\n",
    "print(f\"Connected directly to ChromaDB at: {persist_directory}\")\n",
    "\n",
    "#client.delete_collection(\"cards_collection_googlae\")  # <--- DELETE THIS COLLECTION\n",
    "print(\"\\nListing all collections found in the database:\")\n",
    "collections = client.list_collections()\n",
    "if not collections:\n",
    "        print(\"-> No collections found.\")\n",
    "else:\n",
    "    print(f\"-> Found {len(collections)} collection(s):\")\n",
    "    # Iterate through the Collection objects\n",
    "    for collection in collections:\n",
    "        # Call the .count() method on each collection object\n",
    "        item_count = collection.count()\n",
    "        print(f\"  - Name: {collection.name} - Items: {item_count}\")\n",
    "\n",
    "        # Fetch 2 random samples if the collection has items\n",
    "        if item_count > 0:\n",
    "            all_items = collection.get(include=[\"metadatas\", \"documents\"])\n",
    "            random_samples = random.sample(range(len(all_items[\"metadatas\"])), 2)\n",
    "\n",
    "            print(\"    Random Samples:\")\n",
    "            for sample in random_samples:\n",
    "                print(f\"        Metadata: {all_items['metadatas'][sample]}\")\n",
    "                print(f\"      - Document: {all_items['documents'][sample]}\")\n",
    "        else:\n",
    "            print(\"    No items found in this collection.\")"
   ]
  },
  {
   "cell_type": "code",
   "execution_count": null,
   "metadata": {},
   "outputs": [
    {
     "name": "stderr",
     "output_type": "stream",
     "text": [
      "/usr/local/lib/python3.10/site-packages/tqdm/auto.py:21: TqdmWarning: IProgress not found. Please update jupyter and ipywidgets. See https://ipywidgets.readthedocs.io/en/stable/user_install.html\n",
      "  from .autonotebook import tqdm as notebook_tqdm\n",
      "/var/folders/29/nmbk6h1553v5h_f_pl11t94m0000gn/T/ipykernel_93972/3976424824.py:27: LangChainDeprecationWarning: The class `Chroma` was deprecated in LangChain 0.2.9 and will be removed in 1.0. An updated version of the class exists in the :class:`~langchain-chroma package and should be used instead. To use it run `pip install -U :class:`~langchain-chroma` and import as `from :class:`~langchain_chroma import Chroma``.\n",
      "  vector_store = Chroma(\n",
      "/var/folders/29/nmbk6h1553v5h_f_pl11t94m0000gn/T/ipykernel_93972/3976424824.py:27: LangChainDeprecationWarning: The class `Chroma` was deprecated in LangChain 0.2.9 and will be removed in 1.0. An updated version of the class exists in the :class:`~langchain-chroma package and should be used instead. To use it run `pip install -U :class:`~langchain-chroma` and import as `from :class:`~langchain_chroma import Chroma``.\n",
      "  vector_store = Chroma(\n"
     ]
    },
    {
     "name": "stdout",
     "output_type": "stream",
     "text": [
      "Vector store loaded. Collection 'cards_collection_google' has approx 34504 items.\n"
     ]
    },
    {
     "data": {
      "text/plain": [
       "'Deadly Riposte deals 3 damage to a target tapped creature.  No card in the provided text deals damage to a player.\\n'"
      ]
     },
     "execution_count": 1,
     "metadata": {},
     "output_type": "execute_result"
    }
   ],
   "source": [
    "\n",
    "\n"
   ]
  },
  {
   "cell_type": "code",
   "execution_count": null,
   "metadata": {},
   "outputs": [],
   "source": []
  }
 ],
 "metadata": {
  "kernelspec": {
   "display_name": "Python 3",
   "language": "python",
   "name": "python3"
  },
  "language_info": {
   "codemirror_mode": {
    "name": "ipython",
    "version": 3
   },
   "file_extension": ".py",
   "mimetype": "text/x-python",
   "name": "python",
   "nbconvert_exporter": "python",
   "pygments_lexer": "ipython3",
   "version": "3.10.9"
  }
 },
 "nbformat": 4,
 "nbformat_minor": 2
}
